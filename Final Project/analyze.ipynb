{
 "cells": [
  {
   "cell_type": "code",
   "execution_count": 1,
   "metadata": {},
   "outputs": [],
   "source": [
    "import pandas as pd\n",
    "import numpy as np\n",
    "import sys\n",
    "from numpy import percentile\n",
    "from numpy.random import rand\n",
    "import math\n",
    "import operator"
   ]
  },
  {
   "cell_type": "code",
   "execution_count": 2,
   "metadata": {},
   "outputs": [],
   "source": [
    "def isNaN(num):\n",
    "    return num != num"
   ]
  },
  {
   "cell_type": "code",
   "execution_count": 3,
   "metadata": {},
   "outputs": [],
   "source": [
    "all_party = ['中國國民黨', '民主進步黨', '時代力量', '無黨及其他']"
   ]
  },
  {
   "cell_type": "code",
   "execution_count": 4,
   "metadata": {},
   "outputs": [],
   "source": [
    "data_name = \"politicalcontribution/legislators/2016/A02_company_all_public.csv\"\n",
    "firm_data_2016 = pd.read_csv(data_name, encoding = \"utf8\")\n",
    "data_name = \"politicalcontribution/legislators/2012/political_donation_8_od.csv\"\n",
    "firm_data_2012 = pd.read_csv(data_name, encoding = \"utf8\")\n",
    "data_name = \"politicalcontribution/legislators/2008/political_donation_7_od.csv\"\n",
    "firm_data_2008 = pd.read_csv(data_name, encoding = \"utf8\")"
   ]
  },
  {
   "cell_type": "code",
   "execution_count": 5,
   "metadata": {},
   "outputs": [],
   "source": [
    "cand_name = \"politicalcontribution/legislators/2016/A05_basic_all.csv\"\n",
    "cand_data_2016 = pd.read_csv(cand_name, encoding = \"utf8\")\n",
    "cand_name = \"politicalcontribution/legislators/2012/A15_basicall_8.csv\"\n",
    "cand_data_2012 = pd.read_csv(cand_name, encoding = \"utf8\")\n",
    "cand_name = \"politicalcontribution/legislators/2008/A16_basicall_7.csv\"\n",
    "cand_data_2008 = pd.read_csv(cand_name, encoding = \"utf8\")"
   ]
  },
  {
   "cell_type": "code",
   "execution_count": 6,
   "metadata": {},
   "outputs": [],
   "source": [
    "# cand_data_2016 = cand_data_2016.fillna(0)"
   ]
  },
  {
   "cell_type": "code",
   "execution_count": 7,
   "metadata": {},
   "outputs": [],
   "source": [
    "# cand_data_2012"
   ]
  },
  {
   "cell_type": "code",
   "execution_count": 8,
   "metadata": {},
   "outputs": [],
   "source": [
    "cand_2016 = cand_data_2016[['姓名', '當選註記', '推薦政黨']].values\n",
    "cand_2012 = cand_data_2012[['姓名', '當選註記', '推薦政黨']].values\n",
    "cand_2008 = cand_data_2008[['姓名', '當選註記', '推薦政黨']].values"
   ]
  },
  {
   "cell_type": "code",
   "execution_count": 9,
   "metadata": {},
   "outputs": [],
   "source": [
    "win_2016 = {}\n",
    "for i in range(len(cand_2016)):\n",
    "    win_2016[cand_2016[i][0]] = 0\n",
    "    if isNaN(cand_2016[i][1]) == 0:\n",
    "        win_2016[cand_2016[i][0]] = 1\n",
    "win_2012 = {}\n",
    "for i in range(len(cand_2012)):\n",
    "    win_2012[cand_2012[i][0]] = 0\n",
    "    if isNaN(cand_2012[i][1]) == 0:\n",
    "        win_2012[cand_2012[i][0]] = 1\n",
    "win_2008 = {}\n",
    "for i in range(len(cand_2008)):\n",
    "    win_2008[cand_2008[i][0]] = 0\n",
    "    if isNaN(cand_2008[i][1]) == 0:\n",
    "        win_2008[cand_2008[i][0]] = 1"
   ]
  },
  {
   "cell_type": "code",
   "execution_count": 10,
   "metadata": {},
   "outputs": [],
   "source": [
    "cand_party_2016 = {}\n",
    "for i in range(len(cand_2016)):\n",
    "    if cand_2016[i][2] not in all_party:\n",
    "        cand_party_2016[cand_2016[i][0]] = '無黨及其他'\n",
    "    else:\n",
    "        cand_party_2016[cand_2016[i][0]] = cand_2016[i][2]\n",
    "\n",
    "cand_party_2012 = {}\n",
    "for i in range(len(cand_2012)):\n",
    "    if cand_2012[i][2] not in all_party:\n",
    "        cand_party_2012[cand_2012[i][0]] = '無黨及其他'\n",
    "    else:\n",
    "        cand_party_2012[cand_2012[i][0]] = cand_2012[i][2]\n",
    "        \n",
    "cand_party_2008 = {}\n",
    "for i in range(len(cand_2008)):\n",
    "    if cand_2008[i][2] not in all_party:\n",
    "        cand_party_2008[cand_2008[i][0]] = '無黨及其他'\n",
    "    else:\n",
    "        cand_party_2008[cand_2008[i][0]] = cand_2008[i][2]"
   ]
  },
  {
   "cell_type": "code",
   "execution_count": 11,
   "metadata": {},
   "outputs": [],
   "source": [
    "# cand_party_2016"
   ]
  },
  {
   "cell_type": "code",
   "execution_count": 12,
   "metadata": {},
   "outputs": [],
   "source": [
    "cand_party_all = {}\n",
    "cand_party_all.update(cand_party_2016)\n",
    "cand_party_all.update(cand_party_2012)\n",
    "cand_party_all.update(cand_party_2008)\n",
    "# print(cand_party_all)"
   ]
  },
  {
   "cell_type": "code",
   "execution_count": 13,
   "metadata": {},
   "outputs": [],
   "source": [
    "firm_2016 = firm_data_2016[['捐贈者／支出對象', '收入金額']].values\n",
    "firm_names_2016 = np.unique(np.array(firm_2016[:,0]))\n",
    "firm_num_2016 = {}\n",
    "for i in firm_names_2016:\n",
    "    firm_num_2016[i] = 0\n",
    "    for j in range(len(firm_2016)):\n",
    "        if firm_2016[j][0] == i:\n",
    "            firm_num_2016[i] += 1\n",
    "# print(firm_num_2016)\n",
    "firm_money_2016 = {}\n",
    "for i in firm_names_2016:\n",
    "    firm_money_2016[i] = 0\n",
    "    for j in range(len(firm_2016)):\n",
    "        if firm_2016[j][0] == i:\n",
    "            firm_money_2016[i] += firm_2016[j][1]"
   ]
  },
  {
   "cell_type": "code",
   "execution_count": null,
   "metadata": {},
   "outputs": [],
   "source": []
  },
  {
   "cell_type": "code",
   "execution_count": 14,
   "metadata": {},
   "outputs": [
    {
     "data": {
      "text/plain": [
       "31"
      ]
     },
     "execution_count": 14,
     "metadata": {},
     "output_type": "execute_result"
    }
   ],
   "source": [
    "max(firm_num_2016.items(), key=operator.itemgetter(1))[1]"
   ]
  },
  {
   "cell_type": "code",
   "execution_count": 15,
   "metadata": {
    "scrolled": true
   },
   "outputs": [],
   "source": [
    "firm_2012 = firm_data_2012[['捐贈者/支出對象', '收入金額']].values\n",
    "firm_names_2012 = np.unique(np.array(firm_2012[:,0]))\n",
    "firm_num_2012 = {}\n",
    "for i in firm_names_2012:\n",
    "    firm_num_2012[i] = 0\n",
    "    for j in range(len(firm_2012)):\n",
    "        if firm_2012[j][0] == i:\n",
    "            firm_num_2012[i] += 1\n",
    "# print(firm_num_2012)\n",
    "firm_money_2012 = {}\n",
    "for i in firm_names_2012:\n",
    "    firm_money_2012[i] = 0\n",
    "    for j in range(len(firm_2012)):\n",
    "        if firm_2012[j][0] == i:\n",
    "            firm_money_2012[i] += firm_2012[j][1]"
   ]
  },
  {
   "cell_type": "code",
   "execution_count": 16,
   "metadata": {},
   "outputs": [],
   "source": [
    "firm_2008 = firm_data_2008[['捐贈者/支出對象', '收入金額']].values\n",
    "firm_names_2008 = np.unique(np.array(firm_2008[:,0]))\n",
    "firm_num_2008 = {}\n",
    "for i in firm_names_2008:\n",
    "    firm_num_2008[i] = 0\n",
    "    for j in range(len(firm_2008)):\n",
    "        if firm_2008[j][0] == i:\n",
    "            firm_num_2008[i] += 1\n",
    "# print(firm_num_2008)\n",
    "firm_money_2008 = {}\n",
    "for i in firm_names_2008:\n",
    "    firm_money_2008[i] = 0\n",
    "    for j in range(len(firm_2008)):\n",
    "        if firm_2008[j][0] == i:\n",
    "            firm_money_2008[i] += firm_2008[j][1]"
   ]
  },
  {
   "cell_type": "code",
   "execution_count": 17,
   "metadata": {},
   "outputs": [],
   "source": [
    "# party_2016 = firm_data_2016['推薦政黨'].values\n",
    "# for i in range(len(party_2016)):\n",
    "#     if isNaN(party_2016[i]):\n",
    "#         party_2016[i] = \"無黨籍\"\n",
    "# party_2016 = np.unique(np.array(party_2016))"
   ]
  },
  {
   "cell_type": "code",
   "execution_count": 18,
   "metadata": {},
   "outputs": [],
   "source": [
    "# party_2012 = cand_data_2012['推薦政黨'].values\n",
    "# for i in range(len(party_2012)):\n",
    "#     if isNaN(party_2012[i]):\n",
    "#         party_2012[i] = \"無黨籍\"\n",
    "# party_2012 = np.unique(np.array(party_2012))"
   ]
  },
  {
   "cell_type": "code",
   "execution_count": 19,
   "metadata": {},
   "outputs": [],
   "source": [
    "# party_2008 = cand_data_2008['推薦政黨'].values\n",
    "# for i in range(len(party_2008)):\n",
    "#     if isNaN(party_2008[i]):\n",
    "#         party_2008[i] = \"無黨籍\"\n",
    "# party_2008 = np.unique(np.array(party_2008))"
   ]
  },
  {
   "cell_type": "code",
   "execution_count": 20,
   "metadata": {
    "scrolled": true
   },
   "outputs": [
    {
     "name": "stdout",
     "output_type": "stream",
     "text": [
      "['188商行' '1號木桿美容企業社' '一亨營造有限公司' ..., '龐誼科技股份有限公司' '龔瑞琦建築師事務所'\n",
      " '龜丹休閒事業開發有限公司']\n"
     ]
    }
   ],
   "source": [
    "all_firm = np.hstack((firm_names_2008,firm_names_2012,firm_names_2016)).ravel()\n",
    "all_firm = np.unique(np.array(all_firm))\n",
    "print(all_firm)"
   ]
  },
  {
   "cell_type": "code",
   "execution_count": 21,
   "metadata": {},
   "outputs": [],
   "source": [
    "firm_year = {}\n",
    "for i in all_firm:\n",
    "    firm_year[i] = (i in firm_names_2008) + (i in firm_names_2012) + (i in firm_names_2016)"
   ]
  },
  {
   "cell_type": "code",
   "execution_count": 22,
   "metadata": {
    "scrolled": true
   },
   "outputs": [],
   "source": [
    "firm_cand_2016 = firm_data_2016[['捐贈者／支出對象', '候選人', '收入金額']].values\n",
    "firm_party_count_2016 = np.zeros((len(all_firm), len(all_party)))\n",
    "firm_party_money_2016 = np.zeros((len(all_firm), len(all_party)))\n",
    "for i in all_firm:\n",
    "    for j in range(len(firm_cand_2016)):\n",
    "        if firm_cand_2016[j][0] == i:\n",
    "            try:\n",
    "                firm_party_count_2016[all_firm.tolist().index(i)][all_party.index(cand_party_all[firm_cand_2016[j][1]])] += 1\n",
    "                firm_party_money_2016[all_firm.tolist().index(i)][all_party.index(cand_party_all[firm_cand_2016[j][1]])] += int(firm_cand_2016[j][2])\n",
    "            except:\n",
    "                pass"
   ]
  },
  {
   "cell_type": "code",
   "execution_count": 23,
   "metadata": {},
   "outputs": [],
   "source": [
    "firm_cand_2012 = firm_data_2012[['捐贈者/支出對象', '姓名', '收入金額']].values\n",
    "firm_party_count_2012 = np.zeros((len(all_firm), len(all_party)))\n",
    "firm_party_money_2012 = np.zeros((len(all_firm), len(all_party)))\n",
    "for i in all_firm:\n",
    "    for j in range(len(firm_cand_2012)):\n",
    "        if firm_cand_2012[j][0] == i:\n",
    "            try:\n",
    "                firm_party_count_2012[all_firm.tolist().index(i)][all_party.index(cand_party_all[firm_cand_2012[j][1]])] += 1\n",
    "                firm_party_money_2012[all_firm.tolist().index(i)][all_party.index(cand_party_all[firm_cand_2012[j][1]])] += int(firm_cand_2012[j][2])\n",
    "            except:\n",
    "                pass"
   ]
  },
  {
   "cell_type": "code",
   "execution_count": 24,
   "metadata": {},
   "outputs": [],
   "source": [
    "firm_cand_2008 = firm_data_2008[['捐贈者/支出對象', '姓名', '收入金額']].values\n",
    "firm_party_count_2008 = np.zeros((len(all_firm), len(all_party)))\n",
    "firm_party_money_2008 = np.zeros((len(all_firm), len(all_party)))\n",
    "for i in all_firm:\n",
    "    for j in range(len(firm_cand_2008)):\n",
    "        if firm_cand_2008[j][0] == i:\n",
    "            try:\n",
    "                firm_party_count_2008[all_firm.tolist().index(i)][all_party.index(cand_party_all[firm_cand_2008[j][1]])] += 1\n",
    "                firm_party_money_2008[all_firm.tolist().index(i)][all_party.index(cand_party_all[firm_cand_2008[j][1]])] += int(firm_cand_2008[j][2])\n",
    "            except:\n",
    "                pass"
   ]
  },
  {
   "cell_type": "code",
   "execution_count": 25,
   "metadata": {},
   "outputs": [],
   "source": [
    "# firm_party_money_2008"
   ]
  },
  {
   "cell_type": "code",
   "execution_count": 26,
   "metadata": {},
   "outputs": [],
   "source": [
    "with open(\"firm_party_money_2008.csv\", 'w', encoding = \"utf8\") as f:\n",
    "    f.write(\"廠商\\政黨,\")\n",
    "    for i in range(len(all_party)-1):\n",
    "        f.write(all_party[i]+',')\n",
    "    f.write(all_party[len(all_party)-1]+'\\n')\n",
    "    for i in range(len(firm_party_money_2008)):\n",
    "        f.write(all_firm[i]+',')\n",
    "        for j in range(len(firm_party_money_2008[i])-1):\n",
    "            f.write(str(firm_party_money_2008[i][j])+',')\n",
    "        f.write(str(firm_party_money_2008[i][len(firm_party_money_2008[i])-1])+'\\n')\n",
    "    f.close()"
   ]
  },
  {
   "cell_type": "code",
   "execution_count": 27,
   "metadata": {},
   "outputs": [],
   "source": [
    "with open(\"firm_party_money_2012.csv\", 'w', encoding = \"utf8\") as f:\n",
    "    f.write(\"廠商\\政黨,\")\n",
    "    for i in range(len(all_party)-1):\n",
    "        f.write(all_party[i]+',')\n",
    "    f.write(all_party[len(all_party)-1]+'\\n')\n",
    "    for i in range(len(firm_party_money_2012)):\n",
    "        f.write(all_firm[i]+',')\n",
    "        for j in range(len(firm_party_money_2012[i])-1):\n",
    "            f.write(str(firm_party_money_2012[i][j])+',')\n",
    "        f.write(str(firm_party_money_2012[i][len(firm_party_money_2012[i])-1])+'\\n')\n",
    "    f.close()"
   ]
  },
  {
   "cell_type": "code",
   "execution_count": 28,
   "metadata": {},
   "outputs": [],
   "source": [
    "with open(\"firm_party_money_2016.csv\", 'w', encoding = \"utf8\") as f:\n",
    "    f.write(\"廠商\\政黨,\")\n",
    "    for i in range(len(all_party)-1):\n",
    "        f.write(all_party[i]+',')\n",
    "    f.write(all_party[len(all_party)-1]+'\\n')\n",
    "    for i in range(len(firm_party_money_2016)):\n",
    "        f.write(all_firm[i]+',')\n",
    "        for j in range(len(firm_party_money_2016[i])-1):\n",
    "            f.write(str(firm_party_money_2016[i][j])+',')\n",
    "        f.write(str(firm_party_money_2016[i][len(firm_party_money_2016[i])-1])+'\\n')\n",
    "    f.close()"
   ]
  },
  {
   "cell_type": "code",
   "execution_count": 29,
   "metadata": {},
   "outputs": [],
   "source": [
    "#'捐贈者/支出對象', '姓名', '收入金額'\n",
    "firm_ratio_2016 = np.zeros((len(all_firm), 2))\n",
    "for i in range(len(all_firm)):\n",
    "    try:\n",
    "        firm_ratio_2016[i][1] = firm_num_2016[all_firm[i]]\n",
    "    except:\n",
    "        pass\n",
    "    for j in range(len(firm_cand_2016)):\n",
    "        if firm_cand_2016[j][0] == all_firm[i]:\n",
    "            try:\n",
    "                firm_ratio_2016[i][0] += win_2016[firm_cand_2016[j][1]]\n",
    "            except:\n",
    "                pass"
   ]
  },
  {
   "cell_type": "code",
   "execution_count": 30,
   "metadata": {
    "scrolled": true
   },
   "outputs": [
    {
     "data": {
      "text/plain": [
       "array([[ 0.,  0.],\n",
       "       [ 0.,  0.],\n",
       "       [ 0.,  1.],\n",
       "       ..., \n",
       "       [ 1.,  1.],\n",
       "       [ 0.,  0.],\n",
       "       [ 0.,  0.]])"
      ]
     },
     "execution_count": 30,
     "metadata": {},
     "output_type": "execute_result"
    }
   ],
   "source": [
    "firm_ratio_2016"
   ]
  },
  {
   "cell_type": "code",
   "execution_count": 31,
   "metadata": {},
   "outputs": [],
   "source": [
    "firm_ratio_2012 = np.zeros((len(all_firm), 2))\n",
    "for i in range(len(all_firm)):\n",
    "    try:\n",
    "        firm_ratio_2012[i][1] = firm_num_2012[all_firm[i]]\n",
    "    except:\n",
    "        pass\n",
    "    for j in range(len(firm_cand_2012)):\n",
    "        if firm_cand_2012[j][0] == all_firm[i]:\n",
    "            try:\n",
    "                firm_ratio_2012[i][0] += win_2012[firm_cand_2012[j][1]]\n",
    "            except:\n",
    "                pass"
   ]
  },
  {
   "cell_type": "code",
   "execution_count": 32,
   "metadata": {},
   "outputs": [],
   "source": [
    "firm_ratio_2008 = np.zeros((len(all_firm), 2))\n",
    "for i in range(len(all_firm)):\n",
    "    try:\n",
    "        firm_ratio_2008[i][1] = firm_num_2008[all_firm[i]]\n",
    "    except:\n",
    "        pass\n",
    "    for j in range(len(firm_cand_2008)):\n",
    "        if firm_cand_2008[j][0] == all_firm[i]:\n",
    "            try:\n",
    "                firm_ratio_2008[i][0] += win_2008[firm_cand_2008[j][1]]\n",
    "            except:\n",
    "                pass"
   ]
  },
  {
   "cell_type": "code",
   "execution_count": 33,
   "metadata": {},
   "outputs": [],
   "source": [
    "firm_ratio_all = firm_ratio_2008 + firm_ratio_2012 + firm_ratio_2016"
   ]
  },
  {
   "cell_type": "code",
   "execution_count": 34,
   "metadata": {},
   "outputs": [
    {
     "data": {
      "text/plain": [
       "array([[ 1.,  1.],\n",
       "       [ 1.,  1.],\n",
       "       [ 0.,  1.],\n",
       "       ..., \n",
       "       [ 1.,  1.],\n",
       "       [ 1.,  1.],\n",
       "       [ 1.,  1.]])"
      ]
     },
     "execution_count": 34,
     "metadata": {},
     "output_type": "execute_result"
    }
   ],
   "source": [
    "firm_ratio_all"
   ]
  },
  {
   "cell_type": "code",
   "execution_count": 35,
   "metadata": {},
   "outputs": [],
   "source": [
    "with open(\"firm_ratio.csv\", 'w', encoding = \"utf8\") as f:\n",
    "    f.write(\"廠商,2008命中,2008捐款,2012命中,2012捐款,2016命中,2016捐款,總命中率\")\n",
    "    f.write('\\n')\n",
    "    for i in range(len(all_firm)):\n",
    "        f.write(all_firm[i]+',')\n",
    "        f.write(str(firm_ratio_2008[i][0])+',')\n",
    "        f.write(str(firm_ratio_2008[i][1])+',')\n",
    "        f.write(str(firm_ratio_2012[i][0])+',')\n",
    "        f.write(str(firm_ratio_2012[i][1])+',')\n",
    "        f.write(str(firm_ratio_2016[i][0])+',')\n",
    "        f.write(str(firm_ratio_2016[i][1])+',')\n",
    "        f.write(str(firm_ratio_all[i][0]/firm_ratio_all[i][1]))\n",
    "        f.write('\\n')\n",
    "    f.close()"
   ]
  },
  {
   "cell_type": "code",
   "execution_count": 36,
   "metadata": {},
   "outputs": [
    {
     "data": {
      "text/plain": [
       "31"
      ]
     },
     "execution_count": 36,
     "metadata": {},
     "output_type": "execute_result"
    }
   ],
   "source": [
    "max(firm_num_2016.items(), key=operator.itemgetter(1))[1]"
   ]
  },
  {
   "cell_type": "code",
   "execution_count": 40,
   "metadata": {},
   "outputs": [],
   "source": [
    "firm_ratio_all_2 = [firm_ratio_all[i][0]/firm_ratio_all[i][1] for i in range(len(firm_ratio_all))]"
   ]
  },
  {
   "cell_type": "code",
   "execution_count": 44,
   "metadata": {},
   "outputs": [
    {
     "name": "stdout",
     "output_type": "stream",
     "text": [
      "min: 0.0\n",
      "Q1 0.0\n",
      "median: 0.75\n",
      "Q3: 1.0\n",
      "max: 1.0\n"
     ]
    }
   ],
   "source": [
    "quartiles = percentile(firm_ratio_all_2, [25, 50, 75])\n",
    "print(\"min:\", min(firm_ratio_all_2))\n",
    "print(\"Q1\", quartiles[0])\n",
    "print(\"median:\", quartiles[1])\n",
    "print(\"Q3:\", quartiles[2])\n",
    "print(\"max:\", max(firm_ratio_all_2))\n"
   ]
  },
  {
   "cell_type": "code",
   "execution_count": 49,
   "metadata": {},
   "outputs": [],
   "source": [
    "zero_party_2008 = []\n",
    "zero_party_2012 = []\n",
    "zero_party_2016 = []\n",
    "one_party_2008 = []\n",
    "two_party_2008 = []\n",
    "three_party_2008 = []\n",
    "four_party_2008 = []\n",
    "one_party_2012 = []\n",
    "two_party_2012 = []\n",
    "three_party_2012 = []\n",
    "four_party_2012 = []\n",
    "one_party_2016 = []\n",
    "two_party_2016 = []\n",
    "three_party_2016 = []\n",
    "four_party_2016 = []\n",
    "for i in range(len(all_firm)):\n",
    "    count_2008 = 0\n",
    "    count_2012 = 0\n",
    "    count_2016 = 0\n",
    "    for j in range(4):\n",
    "        if firm_party_money_2008[i][j] > 0:\n",
    "            count_2008 += 1\n",
    "        if firm_party_money_2012[i][j] > 0:\n",
    "            count_2012 += 1\n",
    "        if firm_party_money_2016[i][j] > 0:\n",
    "            count_2016 += 1\n",
    "    if count_2008 == 0:\n",
    "        zero_party_2008.append(i)\n",
    "    if count_2008 == 1:\n",
    "        one_party_2008.append(i)\n",
    "    if count_2008 == 2:\n",
    "        two_party_2008.append(i)\n",
    "    if count_2008 == 3:\n",
    "        three_party_2008.append(i)\n",
    "    if count_2008 == 4:\n",
    "        four_party_2008.append(i)\n",
    "    if count_2012 == 0:\n",
    "        zero_party_2012.append(i)\n",
    "    if count_2012 == 1:\n",
    "        one_party_2012.append(i)\n",
    "    if count_2012 == 2:\n",
    "        two_party_2012.append(i)\n",
    "    if count_2012 == 3:\n",
    "        three_party_2012.append(i)\n",
    "    if count_2012 == 4:\n",
    "        four_party_2012.append(i)\n",
    "    if count_2016 == 0:\n",
    "        zero_party_2016.append(i)\n",
    "    if count_2016 == 1:\n",
    "        one_party_2016.append(i)\n",
    "    if count_2016 == 2:\n",
    "        two_party_2016.append(i)\n",
    "    if count_2016 == 3:\n",
    "        three_party_2016.append(i)\n",
    "    if count_2016 == 4:\n",
    "        four_party_2016.append(i)"
   ]
  },
  {
   "cell_type": "code",
   "execution_count": 69,
   "metadata": {},
   "outputs": [
    {
     "name": "stdout",
     "output_type": "stream",
     "text": [
      "2008\n",
      "all firm: 5440\n",
      "one party: 5028\n",
      "two party: 374\n",
      "three more: 38\n",
      "2012\n",
      "all firm: 4152\n",
      "one party: 3838\n",
      "two party: 296\n",
      "three more: 18\n",
      "2016\n",
      "all firm: 4162\n",
      "one party: 3765\n",
      "two party: 358\n",
      "three more: 22\n"
     ]
    }
   ],
   "source": [
    "print(\"2008\")\n",
    "print(\"all firm:\", len(firm_names_2008))\n",
    "print(\"one party:\", len(one_party_2008))\n",
    "print(\"two party:\", len(two_party_2008))\n",
    "print(\"three more:\", len(three_party_2008))\n",
    "print(\"2012\")\n",
    "print(\"all firm:\", len(firm_names_2012))\n",
    "print(\"one party:\", len(one_party_2012))\n",
    "print(\"two party:\", len(two_party_2012))\n",
    "print(\"three more:\", len(three_party_2012))\n",
    "print(\"2016\")\n",
    "print(\"all firm:\", len(firm_names_2016))\n",
    "print(\"one party:\", len(one_party_2016))\n",
    "print(\"two party:\", len(two_party_2016))\n",
    "print(\"three more:\", len(three_party_2016))"
   ]
  },
  {
   "cell_type": "code",
   "execution_count": 65,
   "metadata": {},
   "outputs": [],
   "source": [
    "one_acc_2008 = []\n",
    "two_acc_2008 = []\n",
    "three_acc_2008 = []\n",
    "four_acc_2008 = []\n",
    "one_acc_2012 = []\n",
    "two_acc_2012 = []\n",
    "three_acc_2012 = []\n",
    "four_acc_2012 = []\n",
    "one_acc_2016 = []\n",
    "two_acc_2016 = []\n",
    "three_acc_2016 = []\n",
    "four_acc_2016 = []\n",
    "for i in range(len(all_firm)):\n",
    "    if i in one_party_2008:\n",
    "        one_acc_2008.append(firm_ratio_2008[i][0]/firm_ratio_2008[i][1])\n",
    "    if i in two_party_2008:\n",
    "        two_acc_2008.append(firm_ratio_2008[i][0]/firm_ratio_2008[i][1])\n",
    "    if i in three_party_2008:\n",
    "        three_acc_2008.append(firm_ratio_2008[i][0]/firm_ratio_2008[i][1])\n",
    "    if i in four_party_2008:\n",
    "        four_acc_2008.append(firm_ratio_2008[i][0]/firm_ratio_2008[i][1])\n",
    "    if i in one_party_2012:\n",
    "        one_acc_2012.append(firm_ratio_2012[i][0]/firm_ratio_2012[i][1])\n",
    "    if i in two_party_2012:\n",
    "        two_acc_2012.append(firm_ratio_2012[i][0]/firm_ratio_2012[i][1])\n",
    "    if i in three_party_2012:\n",
    "        three_acc_2012.append(firm_ratio_2012[i][0]/firm_ratio_2012[i][1])\n",
    "    if i in four_party_2012:\n",
    "        four_acc_2012.append(firm_ratio_2012[i][0]/firm_ratio_2012[i][1])\n",
    "    if i in one_party_2016:\n",
    "        one_acc_2016.append(firm_ratio_2016[i][0]/firm_ratio_2016[i][1])\n",
    "    if i in two_party_2016:\n",
    "        two_acc_2016.append(firm_ratio_2016[i][0]/firm_ratio_2016[i][1])\n",
    "    if i in three_party_2016:\n",
    "        three_acc_2016.append(firm_ratio_2016[i][0]/firm_ratio_2016[i][1])\n",
    "    if i in four_party_2016:\n",
    "        four_acc_2016.append(firm_ratio_2016[i][0]/firm_ratio_2016[i][1])"
   ]
  },
  {
   "cell_type": "code",
   "execution_count": 68,
   "metadata": {},
   "outputs": [
    {
     "name": "stdout",
     "output_type": "stream",
     "text": [
      "2008\n",
      "all firm: 5440\n",
      "one party: [ 0.  0.  1.]\n",
      "one mean: 0.427104326881\n",
      "two party: [ 0.5         0.5         0.66666667]\n",
      "two mean: 0.511279429127\n",
      "three more: [ 0.33333333  0.5         0.62727273]\n",
      "three mean: 0.468439747387\n",
      "2012\n",
      "all firm: 4152\n",
      "one party: [ 0.  1.  1.]\n",
      "one mean: 0.6305981538\n",
      "two party: [ 0.5         0.5         0.66666667]\n",
      "two mean: 0.549243886744\n",
      "three more: [ 0.25  0.4   0.63]\n",
      "three mean: 0.446289081289\n",
      "2016\n",
      "all firm: 4162\n",
      "one party: [ 0.  1.  1.]\n",
      "one mean: 0.684508601539\n",
      "two party: [ 0.5   0.5   0.75]\n",
      "two mean: 0.609362681081\n",
      "three more: [ 0.33333333  0.45        0.66666667]\n",
      "three mean: 0.475295159386\n"
     ]
    }
   ],
   "source": [
    "print(\"2008\")\n",
    "print(\"all firm:\", len(firm_names_2008))\n",
    "print(\"one party:\", percentile(one_acc_2008, [25, 50, 75]))\n",
    "print(\"one mean:\", np.mean(one_acc_2008))\n",
    "print(\"two party:\", percentile(two_acc_2008, [25, 50, 75]))\n",
    "print(\"two mean:\", np.mean(two_acc_2008))\n",
    "print(\"three more:\", percentile(three_acc_2008, [25, 50, 75]))\n",
    "print(\"three mean:\", np.mean(three_acc_2008))\n",
    "print(\"2012\")\n",
    "print(\"all firm:\", len(firm_names_2012))\n",
    "print(\"one party:\", percentile(one_acc_2012, [25, 50, 75]))\n",
    "print(\"one mean:\", np.mean(one_acc_2012))\n",
    "print(\"two party:\", percentile(two_acc_2012, [25, 50, 75]))\n",
    "print(\"two mean:\", np.mean(two_acc_2012))\n",
    "print(\"three more:\", percentile(three_acc_2012, [25, 50, 75]))\n",
    "print(\"three mean:\", np.mean(three_acc_2012))\n",
    "print(\"2016\")\n",
    "print(\"all firm:\", len(firm_names_2016))\n",
    "print(\"one party:\", percentile(one_acc_2016, [25, 50, 75]))\n",
    "print(\"one mean:\", np.mean(one_acc_2016))\n",
    "print(\"two party:\", percentile(two_acc_2016, [25, 50, 75]))\n",
    "print(\"two mean:\", np.mean(two_acc_2016))\n",
    "print(\"three more:\", percentile(three_acc_2016, [25, 50, 75]))\n",
    "print(\"three mean:\", np.mean(three_acc_2016))"
   ]
  },
  {
   "cell_type": "code",
   "execution_count": 64,
   "metadata": {},
   "outputs": [
    {
     "data": {
      "text/plain": [
       "array([[ 1.,  1.],\n",
       "       [ 1.,  1.],\n",
       "       [ 0.,  0.],\n",
       "       ..., \n",
       "       [ 0.,  0.],\n",
       "       [ 1.,  1.],\n",
       "       [ 1.,  1.]])"
      ]
     },
     "execution_count": 64,
     "metadata": {},
     "output_type": "execute_result"
    }
   ],
   "source": [
    "firm_ratio_2012"
   ]
  }
 ],
 "metadata": {
  "kernelspec": {
   "display_name": "Python 3",
   "language": "python",
   "name": "python3"
  },
  "language_info": {
   "codemirror_mode": {
    "name": "ipython",
    "version": 3
   },
   "file_extension": ".py",
   "mimetype": "text/x-python",
   "name": "python",
   "nbconvert_exporter": "python",
   "pygments_lexer": "ipython3",
   "version": "3.6.4"
  }
 },
 "nbformat": 4,
 "nbformat_minor": 2
}
